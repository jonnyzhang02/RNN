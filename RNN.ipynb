{
 "cells": [
  {
   "cell_type": "markdown",
   "source": [
    "## 导入相关的包"
   ],
   "metadata": {
    "collapsed": false
   }
  },
  {
   "cell_type": "code",
   "execution_count": 1,
   "outputs": [],
   "source": [
    "import os\n",
    "import re\n",
    "\n",
    "import jieba as jb\n",
    "import numpy as np\n",
    "import pandas as pd\n",
    "from matplotlib import pyplot as plt\n",
    "from sklearn.model_selection import train_test_split\n",
    "from tensorflow import keras\n",
    "import seaborn as sns\n",
    "from sklearn.metrics import accuracy_score, confusion_matrix\n",
    "from sklearn.metrics import classification_report"
   ],
   "metadata": {
    "collapsed": false
   }
  },
  {
   "cell_type": "markdown",
   "source": [
    "## 读取数据集内容"
   ],
   "metadata": {
    "collapsed": false
   }
  },
  {
   "cell_type": "code",
   "execution_count": 2,
   "outputs": [],
   "source": [
    "train_y = []\n",
    "datas = []\n",
    "for i in range(7):\n",
    "    files = os.listdir(\"./data/{}\".format(i + 1))\n",
    "    for file in files:\n",
    "        with open(\"./data/{}/\".format(i + 1) + file, 'r', encoding='utf-8') as f:\n",
    "            train_y.append(i + 1)\n",
    "            datas.append(f.read())"
   ],
   "metadata": {
    "collapsed": false
   }
  },
  {
   "cell_type": "markdown",
   "source": [
    "## 转换为dataframe"
   ],
   "metadata": {
    "collapsed": false
   }
  },
  {
   "cell_type": "code",
   "execution_count": 3,
   "outputs": [
    {
     "name": "stdout",
     "output_type": "stream",
     "text": [
      "     cat                                             review\n",
      "0      1  2014年以来全国因洪涝灾害死亡377人 失踪94人\\n 2014年09月02日 21:30...\n",
      "1      1  5月份全国自然灾害以洪涝、地质和风雹灾害为主\\n 2016年06月13日 11:08\\n中国...\n",
      "2      1  6月28日以来南方暴雨洪涝灾害致150万余人受灾\\n2011年07月02日 16:07　\\n...\n",
      "3      1  7月1日以来暴雨洪涝风雹灾害致70人死亡或失踪\\n2011年07月08日 20:08　\\n中...\n",
      "4      1  7月以来16省份遇暴雨洪涝灾害 200余万人受灾\\n2011年07月05日 16:06　\\n...\n",
      "...   ..                                                ...\n",
      "6398   7  “鲇鱼\"漫游 吃掉漳州27亿\\n2010-10-25 15:40\\n晋江新闻网\\n据漳州市防...\n",
      "6399   7  “鲇鱼\"肆虐福建致6人死亡\\n2016-10-01 01:57\\n闽南网\\n­  中新网福州...\n",
      "6400   7  “鲇鱼\"致泉州26.61万人受灾 直接经济损失23.42亿元\\n2016-09-29 10:...\n",
      "6401   7  “鲇鱼\"致福州76万户停电 目前已恢复13.8万户\\n2016-09-28 10:32:45...\n",
      "6402   7  “鲇鱼\"致福建60多万人受灾 未发生人员伤亡\\n2010-10-24 20:17:57\\n中...\n",
      "\n",
      "[6403 rows x 2 columns]\n",
      "  cat  count\n",
      "0   3   1012\n",
      "1   6    952\n",
      "2   4    939\n",
      "3   1    936\n",
      "4   5    863\n",
      "5   2    858\n",
      "6   7    843\n"
     ]
    }
   ],
   "source": [
    "df_ = np.mat([train_y, datas])\n",
    "df = pd.DataFrame(df_.T)\n",
    "df.rename(columns={0: 'cat', 1: 'review'}, inplace=True)  # 注意这里0和1都不是字符\n",
    "print(df)\n",
    "\n",
    "d = {'cat': df['cat'].value_counts().index, 'count': df['cat'].value_counts()}\n",
    "df_cat = pd.DataFrame(data=d).reset_index(drop=True)\n",
    "print(df_cat)"
   ],
   "metadata": {
    "collapsed": false
   }
  },
  {
   "cell_type": "markdown",
   "source": [
    "## 定义删除除字母,数字，汉字以外的所有符号的函数"
   ],
   "metadata": {
    "collapsed": false
   }
  },
  {
   "cell_type": "code",
   "execution_count": 4,
   "outputs": [],
   "source": [
    "def remove_punctuation(line):\n",
    "    if line.strip() == '':\n",
    "        return ''\n",
    "    rule = re.compile(u\"[^a-zA-Z0-9\\u4E00-\\u9FA5]\")\n",
    "    line = rule.sub('', line)\n",
    "    return line\n",
    "\n",
    "\n",
    "def stopwordslist(filepath):\n",
    "    _stopwords = [line.strip() for line in open(filepath, 'r', encoding='utf-8').readlines()]\n",
    "    return _stopwords"
   ],
   "metadata": {
    "collapsed": false
   }
  },
  {
   "cell_type": "markdown",
   "source": [
    "## 预处理文字"
   ],
   "metadata": {
    "collapsed": false
   }
  },
  {
   "cell_type": "code",
   "execution_count": 5,
   "outputs": [
    {
     "name": "stderr",
     "output_type": "stream",
     "text": [
      "Building prefix dict from the default dictionary ...\n",
      "Loading model from cache C:\\Users\\ZHANGY~1\\AppData\\Local\\Temp\\jieba.cache\n"
     ]
    },
    {
     "name": "stdout",
     "output_type": "stream",
     "text": [
      "     cat                                             review  \\\n",
      "1163   2  包头固阳冰雹天气致经济损失近700万元\\n12-07-10 10:38\\n来源： 包头晚报\\...   \n",
      "3915   5  内蒙古局地近期遭严重旱灾 102万人需生活救助\\n 2015年09月27日 10:34\\n中...   \n",
      "5697   7  台风“利奇马”有所减弱 将于11日在山东再次登陆\\n2019-08-10 14:21\\n中国...   \n",
      "5772   7  台风“尼伯特\"已导致泉州直接经济损失2.31亿\\n2016-07-11 08:51\\n海峡网...   \n",
      "4912   6  和林县4人遭雷击 1死2伤\\n11-08-16 11:13\\n内蒙古新闻网  \\n8月9日7...   \n",
      "3425   4  河北保定7县（区）26乡镇遭受风雹袭击3万余人受灾\\n2020-06-2717:46:25。...   \n",
      "791    1  贵州强降水引发洪涝泥石流灾害 22万人受灾\\n 2012年06月11日 13:43\\n中国新...   \n",
      "3293   4  新疆喀什部分地区遭受大风袭击\\n2019-11-1909:35:42\\n来源：国家减灾中心\\...   \n",
      "3805   5  云南侨乡河口上万亩林木受旱 经济损失严重\\n 2012年03月23日 18:07\\n中国新闻...   \n",
      "1297   2  广西河池市遭受风雹灾害致1.5万人受灾(图)\\n2012年04月10日 09:50\\n来源：...   \n",
      "\n",
      "                                           clean_review  \n",
      "1163  包头固阳冰雹天气致经济损失近700万元1207101038来源包头晚报7月3日及4日包头市固...  \n",
      "3915  内蒙古局地近期遭严重旱灾102万人需生活救助2015年09月27日1034中国新闻网中新网9...  \n",
      "5697  台风利奇马有所减弱将于11日在山东再次登陆201908101421中国新闻网来源新华社新华社...  \n",
      "5772  台风尼伯特已导致泉州直接经济损失231亿201607110851海峡网今年第1号台风尼伯特对...  \n",
      "4912  和林县4人遭雷击1死2伤1108161113内蒙古新闻网8月9日7时40分和林县忽通兔村南牧...  \n",
      "3425  河北保定7县区26乡镇遭受风雹袭击3万余人受灾20200627174625来源中国新闻网中新...  \n",
      "791   贵州强降水引发洪涝泥石流灾害22万人受灾2012年06月11日1343中国新闻网连日来贵州部...  \n",
      "3293  新疆喀什部分地区遭受大风袭击20191119093542来源国家减灾中心1月1011日新疆喀...  \n",
      "3805  云南侨乡河口上万亩林木受旱经济损失严重2012年03月23日1807中国新闻网中新网昆明3月...  \n",
      "1297  广西河池市遭受风雹灾害致15万人受灾图2012年04月10日0950来源中国新闻网中新网4月...  \n"
     ]
    },
    {
     "name": "stderr",
     "output_type": "stream",
     "text": [
      "Loading model cost 1.034 seconds.\n",
      "Prefix dict has been built successfully.\n"
     ]
    },
    {
     "name": "stdout",
     "output_type": "stream",
     "text": [
      "  cat                                             review  \\\n",
      "0   1  2014年以来全国因洪涝灾害死亡377人 失踪94人\\n 2014年09月02日 21:30...   \n",
      "1   1  5月份全国自然灾害以洪涝、地质和风雹灾害为主\\n 2016年06月13日 11:08\\n中国...   \n",
      "2   1  6月28日以来南方暴雨洪涝灾害致150万余人受灾\\n2011年07月02日 16:07　\\n...   \n",
      "3   1  7月1日以来暴雨洪涝风雹灾害致70人死亡或失踪\\n2011年07月08日 20:08　\\n中...   \n",
      "4   1  7月以来16省份遇暴雨洪涝灾害 200余万人受灾\\n2011年07月05日 16:06　\\n...   \n",
      "\n",
      "                                        clean_review  \\\n",
      "0  2014年以来全国因洪涝灾害死亡377人失踪94人2014年09月02日2130中国新闻网记...   \n",
      "1  5月份全国自然灾害以洪涝地质和风雹灾害为主2016年06月13日1108中国新闻网中新网6月...   \n",
      "2  6月28日以来南方暴雨洪涝灾害致150万余人受灾2011年07月02日1607中国新闻网中新...   \n",
      "3  7月1日以来暴雨洪涝风雹灾害致70人死亡或失踪2011年07月08日2008中国新闻网中新网...   \n",
      "4  7月以来16省份遇暴雨洪涝灾害200余万人受灾2011年07月05日1606中国新闻网中新网...   \n",
      "\n",
      "                                          cut_review  \n",
      "0  2014 年 全国 洪涝灾害 死亡 377 失踪 94 2014 年 09 月 02 日 2...  \n",
      "1  月份 全国 自然灾害 洪涝 地质 风雹 灾害 为主 2016 年 06 月 13 日 110...  \n",
      "2  月 28 日 南方 暴雨 洪涝灾害 150 万余 受灾 2011 年 07 月 02 日 1...  \n",
      "3  月 日 暴雨 洪涝 风雹 灾害 70 死亡 失踪 2011 年 07 月 08 日 2008...  \n",
      "4  月 16 省份 遇 暴雨 洪涝灾害 200 余万 受灾 2011 年 07 月 05 日 1...  \n"
     ]
    }
   ],
   "source": [
    "# 加载停用词\n",
    "stopwords = stopwordslist(\"./data/chineseStopWords.txt\")\n",
    "\n",
    "# 删除除字母,数字，汉字以外的所有符号\n",
    "df['clean_review'] = df['review'].apply(remove_punctuation)\n",
    "print(df.sample(10))\n",
    "\n",
    "# 分词，并过滤停用词\n",
    "df['cut_review'] = df['clean_review'].apply(lambda x: \" \".join([w for w in list(jb.cut(x)) if w not in stopwords]))\n",
    "print(df.head())"
   ],
   "metadata": {
    "collapsed": false
   }
  },
  {
   "cell_type": "markdown",
   "source": [
    "## 分割处理"
   ],
   "metadata": {
    "collapsed": false
   }
  },
  {
   "cell_type": "code",
   "execution_count": 6,
   "outputs": [
    {
     "name": "stdout",
     "output_type": "stream",
     "text": [
      "共有 58907 个不相同的词语.\n"
     ]
    }
   ],
   "source": [
    "# 设置最频繁使用的50000个词\n",
    "MAX_NB_WORDS = 50000\n",
    "# 每条cut_review最大的长度\n",
    "MAX_SEQUENCE_LENGTH = 250\n",
    "# 设置Embedding层的维度\n",
    "EMBEDDING_DIM = 100\n",
    "\n",
    "tokenizer = keras.preprocessing.text.Tokenizer(num_words=MAX_NB_WORDS, filters='!\"#$%&()*+,-./:;<=>?@[\\]^_`{|}~',\n",
    "                                               lower=True)\n",
    "tokenizer.fit_on_texts(df['cut_review'].values)\n",
    "word_index = tokenizer.word_index\n",
    "print('共有 %s 个不相同的词语.' % len(word_index))"
   ],
   "metadata": {
    "collapsed": false
   }
  },
  {
   "cell_type": "markdown",
   "source": [
    "## 配置为训练集和测试集"
   ],
   "metadata": {
    "collapsed": false
   }
  },
  {
   "cell_type": "code",
   "execution_count": 46,
   "outputs": [
    {
     "name": "stdout",
     "output_type": "stream",
     "text": [
      "(6403, 250)\n",
      "(6403, 7)\n",
      "(5762, 250) (5762, 7)\n",
      "(641, 250) (641, 7)\n"
     ]
    }
   ],
   "source": [
    "X = tokenizer.texts_to_sequences(df['cut_review'].values)\n",
    "# 填充X,让X的各个列的长度统一\n",
    "X = keras.preprocessing.sequence.pad_sequences(X, maxlen=MAX_SEQUENCE_LENGTH)\n",
    "\n",
    "# 多类标签的onehot展开\n",
    "Y = pd.get_dummies(df['cat']).values\n",
    "\n",
    "print(X.shape)\n",
    "print(Y.shape)\n",
    "\n",
    "# 拆分训练集和测试集\n",
    "X_train, X_test, Y_train, Y_test = train_test_split(X, Y, test_size=0.1, random_state=42)\n",
    "print(X_train.shape, Y_train.shape)\n",
    "print(X_test.shape, Y_test.shape)"
   ],
   "metadata": {
    "collapsed": false
   }
  },
  {
   "cell_type": "markdown",
   "source": [
    "## 定义模型"
   ],
   "metadata": {
    "collapsed": false
   }
  },
  {
   "cell_type": "code",
   "execution_count": 8,
   "outputs": [
    {
     "name": "stdout",
     "output_type": "stream",
     "text": [
      "Model: \"sequential\"\n",
      "_________________________________________________________________\n",
      " Layer (type)                Output Shape              Param #   \n",
      "=================================================================\n",
      " embedding (Embedding)       (None, 250, 100)          5000000   \n",
      "                                                                 \n",
      " spatial_dropout1d (SpatialD  (None, 250, 100)         0         \n",
      " ropout1D)                                                       \n",
      "                                                                 \n",
      " lstm (LSTM)                 (None, 100)               80400     \n",
      "                                                                 \n",
      " dense (Dense)               (None, 7)                 707       \n",
      "                                                                 \n",
      "=================================================================\n",
      "Total params: 5,081,107\n",
      "Trainable params: 5,081,107\n",
      "Non-trainable params: 0\n",
      "_________________________________________________________________\n",
      "None\n"
     ]
    }
   ],
   "source": [
    "model = keras.Sequential()\n",
    "model.add(keras.layers.Embedding(MAX_NB_WORDS, EMBEDDING_DIM, input_length=X.shape[1]))\n",
    "model.add(keras.layers.SpatialDropout1D(0.2))\n",
    "model.add(keras.layers.LSTM(100, dropout=0.2, recurrent_dropout=0.2))\n",
    "model.add(keras.layers.Dense(7, activation='softmax'))\n",
    "model.compile(loss='categorical_crossentropy', optimizer='adam', metrics=['accuracy'])\n",
    "print(model.summary())"
   ],
   "metadata": {
    "collapsed": false
   }
  },
  {
   "cell_type": "markdown",
   "source": [
    "## 训练模型"
   ],
   "metadata": {
    "collapsed": false
   }
  },
  {
   "cell_type": "code",
   "execution_count": 9,
   "outputs": [
    {
     "name": "stdout",
     "output_type": "stream",
     "text": [
      "Epoch 1/5\n",
      "82/82 [==============================] - 46s 536ms/step - loss: 1.6109 - accuracy: 0.3743 - val_loss: 1.4204 - val_accuracy: 0.4402\n",
      "Epoch 2/5\n",
      "82/82 [==============================] - 49s 600ms/step - loss: 1.1045 - accuracy: 0.5782 - val_loss: 0.9219 - val_accuracy: 0.7002\n",
      "Epoch 3/5\n",
      "82/82 [==============================] - 50s 618ms/step - loss: 0.6901 - accuracy: 0.7724 - val_loss: 0.6664 - val_accuracy: 0.7799\n",
      "Epoch 4/5\n",
      "82/82 [==============================] - 54s 662ms/step - loss: 0.3964 - accuracy: 0.8852 - val_loss: 0.6058 - val_accuracy: 0.8475\n",
      "Epoch 5/5\n",
      "82/82 [==============================] - 54s 662ms/step - loss: 0.2962 - accuracy: 0.9178 - val_loss: 0.7472 - val_accuracy: 0.8128\n"
     ]
    }
   ],
   "source": [
    "epochs = 5\n",
    "batch_size = 64\n",
    "\n",
    "history = model.fit(X_train, Y_train, epochs=epochs, batch_size=batch_size, validation_split=0.1,\n",
    "                    callbacks=[keras.callbacks.EarlyStopping(monitor='val_loss', patience=3, min_delta=0.0001)])"
   ],
   "metadata": {
    "collapsed": false
   }
  },
  {
   "cell_type": "markdown",
   "source": [
    "## 保存模型"
   ],
   "metadata": {
    "collapsed": false
   }
  },
  {
   "cell_type": "code",
   "execution_count": 15,
   "outputs": [],
   "source": [
    "model.save(\"./lstm.h5\")"
   ],
   "metadata": {
    "collapsed": false
   }
  },
  {
   "cell_type": "markdown",
   "source": [
    "## 绘制损失曲线"
   ],
   "metadata": {
    "collapsed": false
   }
  },
  {
   "cell_type": "code",
   "execution_count": 13,
   "outputs": [
    {
     "data": {
      "text/plain": "<Figure size 640x480 with 1 Axes>",
      "image/png": "[encoded data removed]"
     },
     "metadata": {},
     "output_type": "display_data"
    },
    {
     "data": {
      "text/plain": "<Figure size 640x480 with 1 Axes>",
      "image/png": "[encoded data removed]"
     },
     "metadata": {},
     "output_type": "display_data"
    }
   ],
   "source": [
    "plt.title('Loss')\n",
    "plt.plot(history.history['loss'], label='train')\n",
    "plt.plot(history.history['val_loss'], label='test')\n",
    "plt.legend()\n",
    "plt.show()\n",
    "\n",
    "plt.title('Accuracy')\n",
    "plt.plot(history.history['accuracy'], label='train')\n",
    "plt.plot(history.history['val_accuracy'], label='test')\n",
    "plt.legend()\n",
    "plt.show()"
   ],
   "metadata": {
    "collapsed": false
   }
  },
  {
   "cell_type": "markdown",
   "source": [
    "## 通过测试集生成混淆矩阵"
   ],
   "metadata": {
    "collapsed": false
   }
  },
  {
   "cell_type": "code",
   "execution_count": 47,
   "outputs": [
    {
     "name": "stdout",
     "output_type": "stream",
     "text": [
      "21/21 [==============================] - 1s 32ms/step\n",
      "[3 2 4 1 5 6 2 0 2 2 6 1 5 0 6 0 4 1 6 5 0 3 4 3 6 1 3 6 5 4 4 2 0 3 5 4 5\n",
      " 4 2 0 0 1 6 0 3 0 4 2 4 1 0 5 3 6 2 4 5 6 0 0 5 0 0 6 0 3 0 5 2 2 2 3 4 4\n",
      " 3 1 5 4 5 1 6 5 4 4 5 5 1 5 5 4 1 3 0 3 5 5 6 3 6 3 4 6 0 6 1 6 1 1 2 0 2\n",
      " 4 0 0 0 6 6 4 1 1 1 2 5 1 1 5 6 0 3 1 5 2 2 2 0 1 0 4 4 2 4 6 1 2 3 4 4 0\n",
      " 5 1 3 6 4 6 5 2 0 2 4 4 3 0 3 6 6 2 1 2 1 1 0 3 2 1 6 4 5 6 0 5 3 0 5 0 2\n",
      " 1 1 5 1 1 3 4 1 5 3 5 2 3 4 5 1 0 0 5 5 3 3 3 1 4 5 0 2 0 3 2 0 2 6 5 3 5\n",
      " 1 3 2 3 2 2 2 5 5 6 4 2 6 0 3 2 0 1 0 3 5 6 1 3 2 4 4 2 2 5 2 6 3 0 5 1 2\n",
      " 4 5 5 2 4 3 0 1 0 1 1 5 0 2 0 2 2 4 6 4 6 1 2 2 1 1 2 1 5 0 5 0 0 5 5 1 5\n",
      " 5 4 1 4 4 2 5 2 2 4 6 5 0 5 2 3 1 6 5 2 0 3 6 2 2 0 6 1 0 0 2 2 6 2 4 4 1\n",
      " 0 1 3 2 6 0 3 1 0 2 3 5 2 2 2 0 0 1 4 2 3 3 5 6 0 3 4 4 4 0 2 2 1 2 2 0 1\n",
      " 2 6 3 1 3 1 3 1 0 5 4 3 5 3 0 4 0 3 3 0 2 6 0 4 3 3 4 6 6 1 1 1 3 1 1 1 6\n",
      " 1 2 0 1 3 4 2 5 1 5 5 0 3 3 5 0 5 6 0 6 2 2 6 1 3 4 6 6 3 1 5 0 1 6 6 4 4\n",
      " 0 0 4 4 0 6 5 0 1 2 6 5 3 5 1 0 4 2 1 4 6 1 6 2 2 6 4 1 1 6 5 2 2 6 3 5 5\n",
      " 1 3 1 1 1 4 1 1 0 4 5 0 0 5 2 5 4 0 2 4 4 1 2 5 2 3 2 3 1 5 3 2 3 3 4 0 4\n",
      " 0 3 4 0 3 3 2 4 4 0 4 6 2 6 6 5 6 0 0 2 6 6 0 4 4 0 4 3 1 4 0 4 2 5 6 1 2\n",
      " 5 5 1 5 0 1 3 0 5 4 0 1 4 4 0 5 1 0 3 5 4 1 6 5 1 5 3 0 6 6 2 4 6 5 4 5 4\n",
      " 2 6 0 2 5 5 4 6 3 4 0 1 4 6 5 5 3 0 0 3 4 0 5 4 2 2 6 1 4 1 0 0 1 5 0 5 6\n",
      " 4 2 0 0 6 3 1 3 4 0 0 6] [3 2 4 1 5 6 2 1 3 2 6 3 5 0 3 2 4 1 6 5 0 3 4 3 6 1 3 6 5 4 4 3 0 3 5 4 5\n",
      " 4 2 0 0 1 6 0 3 0 4 2 4 1 0 5 3 6 2 4 5 6 0 0 2 0 2 6 0 3 6 5 2 2 2 3 4 4\n",
      " 3 0 5 4 5 3 6 0 4 4 5 5 1 5 5 4 3 3 0 3 5 5 6 3 6 3 4 6 0 6 3 6 2 2 2 3 2\n",
      " 4 0 0 0 6 6 4 1 3 1 2 5 3 1 5 6 0 3 1 5 2 6 2 0 1 0 4 4 2 4 3 1 2 3 4 4 0\n",
      " 5 1 3 6 4 0 5 2 0 2 4 4 3 0 2 2 6 2 3 2 3 1 2 3 2 3 6 4 5 6 0 5 3 2 5 0 2\n",
      " 2 3 5 1 1 3 4 2 5 3 5 2 3 4 5 0 0 0 5 3 3 3 2 1 4 5 0 2 0 3 2 0 2 6 5 3 5\n",
      " 3 3 2 3 2 2 2 5 5 6 4 2 6 2 3 2 0 1 0 3 5 6 3 3 2 4 4 2 2 5 2 6 3 4 5 1 2\n",
      " 4 5 5 2 4 3 0 1 0 1 1 5 0 2 0 2 2 4 6 4 6 1 2 2 1 1 2 1 5 0 5 0 3 5 5 0 5\n",
      " 2 4 3 4 4 2 5 2 2 4 6 5 4 5 0 3 3 6 5 2 0 3 6 2 2 0 6 1 1 0 2 2 6 2 4 4 3\n",
      " 1 1 3 2 2 0 3 1 0 2 3 5 2 2 2 0 0 2 0 2 3 3 5 6 0 3 4 4 4 2 2 2 3 2 0 3 3\n",
      " 2 6 3 3 3 1 3 3 2 3 4 3 5 3 0 4 3 3 3 0 2 6 0 4 3 3 4 6 6 1 1 0 3 3 1 2 6\n",
      " 1 2 0 1 3 4 2 5 1 5 5 0 3 3 5 0 5 6 0 6 2 2 6 1 3 4 6 6 3 1 5 0 1 6 6 4 4\n",
      " 2 0 5 4 0 6 5 0 1 2 6 5 3 5 3 0 4 2 1 4 3 2 6 2 2 6 4 3 1 6 0 2 2 6 3 5 5\n",
      " 1 3 3 1 1 4 3 1 0 4 5 0 6 5 2 5 4 0 6 4 4 3 2 5 2 3 2 3 1 5 3 2 3 3 4 0 4\n",
      " 0 3 0 0 3 3 2 4 4 0 4 0 2 3 6 5 6 0 0 2 0 6 0 4 4 0 4 3 1 4 0 4 2 5 2 3 2\n",
      " 5 5 1 5 1 1 3 0 5 4 0 1 4 4 0 5 1 0 3 5 4 1 6 5 1 5 3 0 6 6 2 4 6 5 3 5 4\n",
      " 2 6 0 2 5 5 4 6 3 4 2 3 4 6 5 5 3 0 2 3 4 0 5 1 2 2 6 1 4 3 1 0 1 5 0 5 6\n",
      " 4 2 0 0 6 3 1 3 4 0 0 6]\n"
     ]
    },
    {
     "data": {
      "text/plain": "Text(0.5, 58.7222222222222, 'pred')"
     },
     "execution_count": 47,
     "metadata": {},
     "output_type": "execute_result"
    },
    {
     "data": {
      "text/plain": "<Figure size 1000x800 with 2 Axes>",
      "image/png": "[encoded data removed]"
     },
     "metadata": {},
     "output_type": "display_data"
    }
   ],
   "source": [
    "y_pred = model.predict(X_test)\n",
    "y_pred = y_pred.argmax(axis=1)\n",
    "Y_test = Y_test.argmax(axis=1)\n",
    "print(Y_test, y_pred)\n",
    "\n",
    "# 生成混淆矩阵\n",
    "conf_mat = confusion_matrix(Y_test, y_pred)\n",
    "fig, ax = plt.subplots(figsize=(10, 8))\n",
    "sns.heatmap(conf_mat, annot=True, fmt='d',\n",
    "            xticklabels=df_cat.cat.values, yticklabels=df_cat.cat.values)\n",
    "plt.ylabel('real', fontsize=18)\n",
    "plt.xlabel('pred', fontsize=18)"
   ],
   "metadata": {
    "collapsed": false
   }
  },
  {
   "cell_type": "code",
   "execution_count": 49,
   "outputs": [
    {
     "name": "stdout",
     "output_type": "stream",
     "text": [
      "accuracy 0.858034321372855\n",
      "              precision    recall  f1-score   support\n",
      "\n",
      "           3       0.87      0.79      0.82       107\n",
      "           6       0.90      0.59      0.72        96\n",
      "           4       0.79      0.94      0.86        96\n",
      "           1       0.65      0.97      0.78        79\n",
      "           5       0.98      0.95      0.96        92\n",
      "           2       0.99      0.94      0.96        94\n",
      "           7       0.94      0.87      0.91        77\n",
      "\n",
      "    accuracy                           0.86       641\n",
      "   macro avg       0.87      0.86      0.86       641\n",
      "weighted avg       0.88      0.86      0.86       641\n",
      "\n"
     ]
    }
   ],
   "source": [
    "print('accuracy %s' % accuracy_score(y_pred, Y_test))\n",
    "print(classification_report(Y_test, y_pred, target_names=df_cat['cat'].values))"
   ],
   "metadata": {
    "collapsed": false
   }
  },
  {
   "cell_type": "code",
   "execution_count": null,
   "outputs": [],
   "source": [],
   "metadata": {
    "collapsed": false
   }
  }
 ],
 "metadata": {
  "kernelspec": {
   "display_name": "Python 3",
   "language": "python",
   "name": "python3"
  },
  "language_info": {
   "codemirror_mode": {
    "name": "ipython",
    "version": 2
   },
   "file_extension": ".py",
   "mimetype": "text/x-python",
   "name": "python",
   "nbconvert_exporter": "python",
   "pygments_lexer": "ipython2",
   "version": "2.7.6"
  }
 },
 "nbformat": 4,
 "nbformat_minor": 0
}
